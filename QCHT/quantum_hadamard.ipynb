{
 "cells": [
  {
   "cell_type": "code",
   "execution_count": 2,
   "id": "b0376e4d-8dbd-4868-9a2b-bd43824196cd",
   "metadata": {
    "tags": []
   },
   "outputs": [
    {
     "name": "stdout",
     "output_type": "stream",
     "text": [
      "[ 2.5912024   0.18683789 -0.0969352  -0.05120033 -0.24031621 -0.27311291\n",
      "  0.3999067   0.07860317 -0.52041369  0.08585718 -0.44274536  0.09193298\n",
      "  0.27732045  0.41332937 -0.10266398 -0.06382657 -0.17028592  0.38625722\n",
      "  0.44163674  0.09105414  0.07475105 -0.22436601  0.49055629  0.1861327\n",
      " -0.04052916 -0.36192018  0.08806002 -0.11026699  0.02459413 -0.38040549\n",
      " -0.16883669  0.3920187 ]\n",
      "[[ 2.5912024   0.18683789 -0.0969352  -0.05120033 -0.24031621 -0.27311291\n",
      "   0.3999067   0.07860317 -0.52041369  0.08585718 -0.44274536  0.09193298\n",
      "   0.27732045  0.41332937 -0.10266398 -0.06382657 -0.17028592  0.38625722\n",
      "   0.44163674  0.09105414  0.07475105 -0.22436601  0.49055629  0.1861327\n",
      "  -0.04052916 -0.36192018  0.08806002 -0.11026699  0.02459413 -0.38040549\n",
      "  -0.16883669  0.3920187 ]]\n"
     ]
    }
   ],
   "source": [
    "# -*- coding: utf-8 -*-\n",
    "\"\"\"\n",
    "Hybrid Quantum-Classicial Hadamard Transform VS Classicial Hadamard Transform\n",
    "We can see that they produce the same \n",
    "\"\"\"\n",
    "import numpy as np\n",
    "from qiskit import QuantumCircuit, QuantumRegister, transpile\n",
    "from qiskit import BasicAer\n",
    "from scipy.linalg import hadamard\n",
    "\n",
    "backend = BasicAer.get_backend('statevector_simulator')\n",
    "\n",
    "n = 32\n",
    "input_vector = np.random.rand(n)\n",
    "\n",
    "#Hybrid Quantum-Classical HT\n",
    "x = np.copy(input_vector)\n",
    "b = sum(x)\n",
    "delta = (b-x[0])/np.sqrt(n)\n",
    "x[0] =b\n",
    "c = np.sqrt(sum(x**2))\n",
    "x = x/c\n",
    "\n",
    "q = QuantumRegister(5)\n",
    "qc = QuantumCircuit(q)\n",
    "qc.initialize(x, [q[0],q[1], q[2], q[3], q[4]])\n",
    "qc.h(q)\n",
    "job = backend.run(transpile(qc, backend))\n",
    "qc_state = job.result().get_statevector(qc)\n",
    "y1 = c*abs(qc_state)-delta\n",
    "\n",
    "#Classical HT\n",
    "y2 = np.matrix([input_vector])@hadamard(n)/np.sqrt(n)\n",
    "\n",
    "print(y1)\n",
    "print(y2)\n",
    "\n",
    "#qc.draw()"
   ]
  },
  {
   "cell_type": "code",
   "execution_count": null,
   "id": "ba9fbdba-6caa-4843-a8df-92c408bbac9a",
   "metadata": {},
   "outputs": [],
   "source": []
  }
 ],
 "metadata": {
  "kernelspec": {
   "display_name": "Python 3 (ipykernel)",
   "language": "python",
   "name": "python3"
  },
  "language_info": {
   "codemirror_mode": {
    "name": "ipython",
    "version": 3
   },
   "file_extension": ".py",
   "mimetype": "text/x-python",
   "name": "python",
   "nbconvert_exporter": "python",
   "pygments_lexer": "ipython3",
   "version": "3.10.8"
  },
  "widgets": {
   "application/vnd.jupyter.widget-state+json": {
    "state": {},
    "version_major": 2,
    "version_minor": 0
   }
  }
 },
 "nbformat": 4,
 "nbformat_minor": 5
}
